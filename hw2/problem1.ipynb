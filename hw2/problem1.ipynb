{
 "cells": [
  {
   "cell_type": "code",
   "execution_count": 4,
   "metadata": {},
   "outputs": [],
   "source": [
    "# %load assignment2.py\n",
    "import urllib.request\n",
    "import base64\n",
    "\n",
    "################################################################################\n",
    "# \n",
    "# This starter file for UChicago CMSC 23200 / 33250 is for Python3\n",
    "#\n",
    "################################################################################\n",
    "\n",
    "################################################################################\n",
    "# \n",
    "# make_query(task, cnet_id, query)\n",
    "# -- task should be one of 'one','two','three','four','five'\n",
    "# -- cnet_id should always be your own cnet_id\n",
    "# -- query can be any string of bytes, including non-printable\n",
    "#\n",
    "################################################################################\n",
    "\n",
    "def make_query(task, cnet_id, query):\n",
    "    DEBUG = False; # Replace with \"True\" to print extra debugging information\n",
    "    task = task.lower()\n",
    "    cnet_id = cnet_id.lower()\n",
    "    if DEBUG: \n",
    "        print(\"Querying the server\")\n",
    "        print(\"(Task:\", task, \")\")\n",
    "        print(\"(CNET ID:\", cnet_id, \")\")\n",
    "        print(\"(Query:\", query, \")\")\n",
    "    if (type(query) is bytearray) or (type(query) is bytes):\n",
    "        url = \"http://securityclass.cs.uchicago.edu/\" + urllib.parse.quote_plus(task) + \"/\" + urllib.parse.quote_plus(cnet_id) + \"/\" + urllib.parse.quote_plus(base64.urlsafe_b64encode(query)) + \"/\"\n",
    "    else:\n",
    "        url = \"http://securityclass.cs.uchicago.edu/\" + urllib.parse.quote_plus(task) + \"/\" + urllib.parse.quote_plus(cnet_id) + \"/\" + urllib.parse.quote_plus(base64.urlsafe_b64encode(query.encode('utf-8'))) + \"/\"\n",
    "    if DEBUG:\n",
    "        print(\"(Querying:\", url, \")\")\n",
    "    with urllib.request.urlopen(url) as response:\n",
    "        answer = base64.urlsafe_b64decode(response.read())\n",
    "        return answer\n",
    "\n",
    "################################################################################\n",
    "# Constants for the attacks - Don't change these!\n",
    "################################################################################\n",
    "\n",
    "e3 = 65537\n",
    "k3 = 512\n",
    "# Modulus N2 is 512 bits long, too short for real security\n",
    "N3= 0x00dd9387a53d8eb960acc9d3bc49b859e9127ad571f95d3555dc5a30f08b832299d82ecbba38acdadfb4263947f86212f1a3894e3d308545f2618ec3a1cefc5bdf\n",
    "\n",
    "e4 = 65537\n",
    "k4 = 512\n",
    "# Modulus N3 is 512 bits long, too short for real security\n",
    "N4= 0x00c7d11981bf2838ed5ae602cecc4cffcf141537f9ec6e12b2fcaae43dedbf9845049066cc8720c6685d100957c07e4f5f97b2b8e66d1a3bcc32ecf1e0fee55e6f\n",
    "\n",
    "e5 = 3\n",
    "k5 = 2048\n",
    "# Modulus N4 is 2048 bits long\n",
    "N5 = 0x00bc9e8d81ce1de63e0ab302030e5c0595bf5d2c30fd2660ac9299431a29c4e231a675d684e35415ad87ca738509469aaa0455d62543ab9265d71767f55c7f5fdbb9e2618112212178417c21b4e8a98ab0980fd67864ed7e7e3dcefc3143d5e5d3be2bf0c36c75c977052fedbfdc1c2e448710338fad4fe0e3fa8fc2c662e3466d358df6618dc0a63f45395e5c5aa88d15a49ce2be791acbcd81e28533228918f6abb57e023145a97afea85ad238686f51409017a4d6af8687f7a9438f09a2d9d9e619abdde8e67fc95af23dc97b4a595baa26bfeaf16d31b93e3e1bae1f5813fcd9ef2c8f93df2dd4a779626d07852f120e6b84d936abb811fd4525d9a0cf6621\n",
    "\n",
    "\n",
    "################################################################################\n",
    "# Helper methods go below here\n",
    "################################################################################\n",
    "\n",
    "#\n",
    "# modexp(base,exp,modulus) computes (base**exp) % modulus efficiently.\n",
    "#\n",
    "# In particular this method can handle very large values of exp, while\n",
    "# the python builtin ** operator can not.\n",
    "#\n",
    "# Feel free to change this if you want, but you probably won't need to.\n",
    "#\n",
    "def modexp(base, exp, modulus):\n",
    "    ret = 1\n",
    "    while exp > 0:\n",
    "        if exp % 2 == 1:\n",
    "            ret = (ret*base) % modulus\n",
    "        base = (base*base) % modulus\n",
    "        exp = exp >> 1\n",
    "    return ret\n",
    "\n",
    "#your code here"
   ]
  },
  {
   "cell_type": "code",
   "execution_count": 5,
   "metadata": {},
   "outputs": [],
   "source": [
    "from pymd5 import md5, padding"
   ]
  },
  {
   "cell_type": "code",
   "execution_count": 6,
   "metadata": {},
   "outputs": [],
   "source": [
    "import re"
   ]
  },
  {
   "cell_type": "markdown",
   "metadata": {},
   "source": [
    "SCRATCH WORK"
   ]
  },
  {
   "cell_type": "code",
   "execution_count": 15,
   "metadata": {},
   "outputs": [],
   "source": [
    "cnetid = b'davidcash'\n",
    "url = b'http://www.flickur.com/?api_tag='"
   ]
  },
  {
   "cell_type": "code",
   "execution_count": 16,
   "metadata": {},
   "outputs": [
    {
     "data": {
      "text/plain": [
       "(b'http://www.flickur.com/?api_tag=bf39156d52d113687984a299680e002b&uname=davidcash&role=user',\n",
       " b'bf39156d52d113687984a299680e002b')"
      ]
     },
     "execution_count": 16,
     "metadata": {},
     "output_type": "execute_result"
    }
   ],
   "source": [
    "resp = make_query('one', cnetid, '')\n",
    "tag = re.findall(b'api_tag=(\\w+)&uname=davidcash&role=user', resp)[0]\n",
    "resp, tag"
   ]
  },
  {
   "cell_type": "code",
   "execution_count": 17,
   "metadata": {},
   "outputs": [
    {
     "data": {
      "text/plain": [
       "b'OK'"
      ]
     },
     "execution_count": 17,
     "metadata": {},
     "output_type": "execute_result"
    }
   ],
   "source": [
    "ok = url + tag + b'&uname=' + cnetid + b'&role=user'\n",
    "make_query('one', 'davidcash', ok)"
   ]
  },
  {
   "cell_type": "code",
   "execution_count": 28,
   "metadata": {},
   "outputs": [
    {
     "name": "stdout",
     "output_type": "stream",
     "text": [
      "b'http://www.flickur.com/?api_tag=edabe8d34011ec5df1ad4991e0402c10&uname=davidcash&role=user\\x80\\x00\\x00\\x00\\x00\\x00\\x00\\x00\\x00\\x00\\x00\\x00\\x00\\x00\\x00H\\x01\\x00\\x00\\x00\\x00\\x00\\x00&role=admin' b'Success!'\n"
     ]
    }
   ],
   "source": [
    "for i in range(8, 513, 8):\n",
    "    pad = padding(i)\n",
    "    h = md5(state=bytes.fromhex(tag.decode('utf-8')), count=512)\n",
    "    h.update('&role=admin')\n",
    "    forged_tag = h.hexdigest()\n",
    "    attack = url + forged_tag.encode('utf-8') + b'&uname=' + cnetid + \\\n",
    "    b'&role=user' + pad + b'&role=admin'\n",
    "    res = make_query('one', cnetid, attack)\n",
    "    if res != b'Incorrect hash':\n",
    "        print(attack, res)\n",
    "        break"
   ]
  },
  {
   "cell_type": "code",
   "execution_count": 31,
   "metadata": {},
   "outputs": [],
   "source": [
    "################################################################################\n",
    "# PROBLEM 1 SOLUTION\n",
    "################################################################################\n",
    "\n",
    "def problem1(cnetid):\n",
    "    url = b'http://www.flickur.com/?api_tag='\n",
    "    resp = make_query('one', cnetid, '')\n",
    "    tag = re.findall(b'api_tag=(\\w+)&uname', resp)[0]\n",
    "    for i in range(8, 513, 8):\n",
    "        pad = padding(i)\n",
    "        h = md5(state=bytes.fromhex(tag.decode('utf-8')), count=512)\n",
    "        h.update('&role=admin')\n",
    "        forged_tag = h.hexdigest()\n",
    "        attack = url + forged_tag.encode('utf-8') + b'&uname=' + \\\n",
    "        cnetid.encode('utf-8') + b'&role=user' + pad + b'&role=admin'\n",
    "        res = make_query('one', cnetid, attack)\n",
    "        if res != b'Incorrect hash':\n",
    "            print(res)\n",
    "            print(attack)\n",
    "            break"
   ]
  },
  {
   "cell_type": "code",
   "execution_count": 32,
   "metadata": {},
   "outputs": [
    {
     "name": "stdout",
     "output_type": "stream",
     "text": [
      "b'Success!'\n",
      "b'http://www.flickur.com/?api_tag=365fa55a0e7c912855de91c67fb2dc26&uname=rohankumar&role=user\\x80\\x00\\x00\\x00\\x00\\x00\\x00\\x00\\x00\\x00\\x00\\x00\\x00\\x00P\\x01\\x00\\x00\\x00\\x00\\x00\\x00&role=admin'\n"
     ]
    }
   ],
   "source": [
    "problem1('rohankumar')"
   ]
  }
 ],
 "metadata": {
  "kernelspec": {
   "display_name": "Python 3",
   "language": "python",
   "name": "python3"
  },
  "language_info": {
   "codemirror_mode": {
    "name": "ipython",
    "version": 3
   },
   "file_extension": ".py",
   "mimetype": "text/x-python",
   "name": "python",
   "nbconvert_exporter": "python",
   "pygments_lexer": "ipython3",
   "version": "3.8.0"
  }
 },
 "nbformat": 4,
 "nbformat_minor": 2
}
