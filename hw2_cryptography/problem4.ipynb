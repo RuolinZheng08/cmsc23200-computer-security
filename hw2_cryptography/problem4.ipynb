{
 "cells": [
  {
   "cell_type": "code",
   "execution_count": 1,
   "metadata": {},
   "outputs": [],
   "source": [
    "# %load assignment2.py\n",
    "import urllib.request\n",
    "import base64\n",
    "\n",
    "################################################################################\n",
    "# \n",
    "# This starter file for UChicago CMSC 23200 / 33250 is for Python3\n",
    "#\n",
    "################################################################################\n",
    "\n",
    "################################################################################\n",
    "# \n",
    "# make_query(task, cnet_id, query)\n",
    "# -- task should be one of 'one','two','three','four','five'\n",
    "# -- cnet_id should always be your own cnet_id\n",
    "# -- query can be any string of bytes, including non-printable\n",
    "#\n",
    "################################################################################\n",
    "\n",
    "def make_query(task, cnet_id, query):\n",
    "    DEBUG = False; # Replace with \"True\" to print extra debugging information\n",
    "    task = task.lower()\n",
    "    cnet_id = cnet_id.lower()\n",
    "    if DEBUG: \n",
    "        print(\"Querying the server\")\n",
    "        print(\"(Task:\", task, \")\")\n",
    "        print(\"(CNET ID:\", cnet_id, \")\")\n",
    "        print(\"(Query:\", query, \")\")\n",
    "    if (type(query) is bytearray) or (type(query) is bytes):\n",
    "        url = \"http://securityclass.cs.uchicago.edu/\" + urllib.parse.quote_plus(task) + \"/\" + urllib.parse.quote_plus(cnet_id) + \"/\" + urllib.parse.quote_plus(base64.urlsafe_b64encode(query)) + \"/\"\n",
    "    else:\n",
    "        url = \"http://securityclass.cs.uchicago.edu/\" + urllib.parse.quote_plus(task) + \"/\" + urllib.parse.quote_plus(cnet_id) + \"/\" + urllib.parse.quote_plus(base64.urlsafe_b64encode(query.encode('utf-8'))) + \"/\"\n",
    "    if DEBUG:\n",
    "        print(\"(Querying:\", url, \")\")\n",
    "    with urllib.request.urlopen(url) as response:\n",
    "        answer = base64.urlsafe_b64decode(response.read())\n",
    "        return answer\n",
    "\n",
    "################################################################################\n",
    "# Constants for the attacks - Don't change these!\n",
    "################################################################################\n",
    "\n",
    "e3 = 65537\n",
    "k3 = 512\n",
    "# Modulus N2 is 512 bits long, too short for real security\n",
    "N3= 0x00dd9387a53d8eb960acc9d3bc49b859e9127ad571f95d3555dc5a30f08b832299d82ecbba38acdadfb4263947f86212f1a3894e3d308545f2618ec3a1cefc5bdf\n",
    "\n",
    "e4 = 65537\n",
    "k4 = 512\n",
    "# Modulus N3 is 512 bits long, too short for real security\n",
    "N4= 0x00c7d11981bf2838ed5ae602cecc4cffcf141537f9ec6e12b2fcaae43dedbf9845049066cc8720c6685d100957c07e4f5f97b2b8e66d1a3bcc32ecf1e0fee55e6f\n",
    "\n",
    "e5 = 3\n",
    "k5 = 2048\n",
    "# Modulus N4 is 2048 bits long\n",
    "N5 = 0x00bc9e8d81ce1de63e0ab302030e5c0595bf5d2c30fd2660ac9299431a29c4e231a675d684e35415ad87ca738509469aaa0455d62543ab9265d71767f55c7f5fdbb9e2618112212178417c21b4e8a98ab0980fd67864ed7e7e3dcefc3143d5e5d3be2bf0c36c75c977052fedbfdc1c2e448710338fad4fe0e3fa8fc2c662e3466d358df6618dc0a63f45395e5c5aa88d15a49ce2be791acbcd81e28533228918f6abb57e023145a97afea85ad238686f51409017a4d6af8687f7a9438f09a2d9d9e619abdde8e67fc95af23dc97b4a595baa26bfeaf16d31b93e3e1bae1f5813fcd9ef2c8f93df2dd4a779626d07852f120e6b84d936abb811fd4525d9a0cf6621\n",
    "\n",
    "\n",
    "################################################################################\n",
    "# Helper methods go below here\n",
    "################################################################################\n",
    "\n",
    "#\n",
    "# modexp(base,exp,modulus) computes (base**exp) % modulus efficiently.\n",
    "#\n",
    "# In particular this method can handle very large values of exp, while\n",
    "# the python builtin ** operator can not.\n",
    "#\n",
    "# Feel free to change this if you want, but you probably won't need to.\n",
    "#\n",
    "def modexp(base, exp, modulus):\n",
    "    ret = 1\n",
    "    while exp > 0:\n",
    "        if exp % 2 == 1:\n",
    "            ret = (ret*base) % modulus\n",
    "        base = (base*base) % modulus\n",
    "        exp = exp >> 1\n",
    "    return ret\n",
    "\n",
    "#your code here"
   ]
  },
  {
   "cell_type": "code",
   "execution_count": 2,
   "metadata": {},
   "outputs": [],
   "source": [
    "import math"
   ]
  },
  {
   "cell_type": "code",
   "execution_count": 3,
   "metadata": {},
   "outputs": [],
   "source": [
    "from decimal import *"
   ]
  },
  {
   "cell_type": "code",
   "execution_count": 4,
   "metadata": {},
   "outputs": [],
   "source": [
    "def rsa_enc(N, e, M):\n",
    "    return modexp(M, e, N)\n",
    "\n",
    "def rsa_dec(N, d, C):\n",
    "    return modexp(C, d, N)"
   ]
  },
  {
   "cell_type": "code",
   "execution_count": 6,
   "metadata": {},
   "outputs": [],
   "source": [
    "def gen_ctext_given_msg_coef(ctext, coeff, exp, modulus):\n",
    "    \"\"\"Given C, creates C' that decodes to M' = coeff * M\"\"\"\n",
    "    mult = modexp(coeff, exp, modulus)\n",
    "    return ctext * mult % modulus"
   ]
  },
  {
   "cell_type": "code",
   "execution_count": 19,
   "metadata": {},
   "outputs": [
    {
     "data": {
      "text/plain": [
       "(3, 6)"
      ]
     },
     "execution_count": 19,
     "metadata": {},
     "output_type": "execute_result"
    }
   ],
   "source": [
    "N0 = 10919004200013450018317318873934378737492160016069064494055844031850292055849078163405133164445025496900759761448073186739695639699762006862469647051348171\n",
    "e0 = 65537\n",
    "d0 = 3225202302575039526596985805905392428710090995789629529516655153097608276502165308334624255495652191210051352829959680248336718656470211430168810247400369\n",
    "\n",
    "M = 3\n",
    "C = rsa_enc(N0, e0, M)\n",
    "rsa_dec(N0, d0, C), \\\n",
    "rsa_dec(N0, d0, gen_ctext_given_msg_coef(C, 2, e0, N0)) # produces 2M"
   ]
  },
  {
   "cell_type": "code",
   "execution_count": 8,
   "metadata": {},
   "outputs": [
    {
     "data": {
      "text/plain": [
       "107552524872943947383268605932222862319223730769362344735103445182683512969479"
      ]
     },
     "execution_count": 8,
     "metadata": {},
     "output_type": "execute_result"
    }
   ],
   "source": [
    "M = 107552524872943947383268605932222862319223730769362344735103445182683512969479\n",
    "rsa_dec(N0, d0, rsa_enc(N0, e0, M))"
   ]
  },
  {
   "cell_type": "code",
   "execution_count": null,
   "metadata": {
    "scrolled": false
   },
   "outputs": [],
   "source": [
    "make_query('four', 'davidcash', '')"
   ]
  },
  {
   "cell_type": "code",
   "execution_count": 9,
   "metadata": {},
   "outputs": [],
   "source": [
    "def oracle(ctext, N, d):\n",
    "    return rsa_dec(N, d, ctext) % 2"
   ]
  },
  {
   "cell_type": "code",
   "execution_count": null,
   "metadata": {
    "scrolled": true
   },
   "outputs": [],
   "source": [
    "print(oracle(1, 15, 3), 15 / 2) # > N/2\n",
    "print(oracle(8, 15, 3), 45 / 4) # < 3N/4\n",
    "print(oracle(4, 15, 3), 75 / 8) # < 5N/8\n",
    "print(oracle(2, 15, 3), 7 * 15 / 16) # < 7N/16\n",
    "print(oracle(1, 15, 3), 17 * 15 / 32) # > 17N/32\n",
    "print(oracle(8, 15, 3), 35 * 15 / 64) # < 35N/64"
   ]
  },
  {
   "cell_type": "code",
   "execution_count": 22,
   "metadata": {},
   "outputs": [],
   "source": [
    "def binary_search_with_oracle(ctext, modulus, encrypt, decrypt): # C, N, e\n",
    "    getcontext().prec = k4\n",
    "    lo, hi = Decimal(0), Decimal(modulus)\n",
    "    step = Decimal(lo + hi) / 2\n",
    "    mult = modexp(2, encrypt, modulus)\n",
    "    ctext = ctext * mult % modulus\n",
    "    while lo < hi:\n",
    "        resp = oracle(ctext, modulus, decrypt)\n",
    "        if resp == 0:\n",
    "            hi -= step\n",
    "        else:\n",
    "            lo += step\n",
    "        ret = math.ceil(lo)\n",
    "        if math.floor(hi) == ret:\n",
    "            return ret\n",
    "        ctext = ctext * mult % modulus\n",
    "        step /= 2"
   ]
  },
  {
   "cell_type": "code",
   "execution_count": 17,
   "metadata": {
    "scrolled": true
   },
   "outputs": [
    {
     "name": "stdout",
     "output_type": "stream",
     "text": [
      "3.75\n",
      "1.875\n",
      "0.9375\n"
     ]
    },
    {
     "data": {
      "text/plain": [
       "8"
      ]
     },
     "execution_count": 17,
     "metadata": {},
     "output_type": "execute_result"
    }
   ],
   "source": [
    "binary_search_with_oracle(2, 15, 3, 3)"
   ]
  },
  {
   "cell_type": "code",
   "execution_count": 24,
   "metadata": {},
   "outputs": [
    {
     "data": {
      "text/plain": [
       "107552524872943947383268605932222862319223730769362344735103445182683512969479"
      ]
     },
     "execution_count": 24,
     "metadata": {},
     "output_type": "execute_result"
    }
   ],
   "source": [
    "M = 107552524872943947383268605932222862319223730769362344735103445182683512969479\n",
    "C = rsa_enc(N0, e0, M)\n",
    "binary_search_with_oracle(C, N0, e0, d0)"
   ]
  },
  {
   "cell_type": "code",
   "execution_count": 35,
   "metadata": {},
   "outputs": [
    {
     "data": {
      "text/plain": [
       "'0xedc89263ce8e17573b6e896a8bf06b45ce65ae33c7fb79ccddbcd5bbed8e1907'"
      ]
     },
     "execution_count": 35,
     "metadata": {},
     "output_type": "execute_result"
    }
   ],
   "source": [
    "hex(M)"
   ]
  },
  {
   "cell_type": "code",
   "execution_count": 67,
   "metadata": {},
   "outputs": [],
   "source": [
    "def problem4(cnetid):\n",
    "    getcontext().prec = k4\n",
    "    ctext = int(make_query('four', cnetid, ''), 16)\n",
    "    lo, hi = Decimal(0), Decimal(N4)\n",
    "    step = Decimal(lo + hi) / 2\n",
    "    mult = modexp(2, e4, N4)\n",
    "    ctext = ctext * mult % N4\n",
    "    ret = None\n",
    "    while lo < hi:\n",
    "        resp = make_query('four', cnetid, hex(ctext))\n",
    "        if resp == b'\\x00':\n",
    "            hi -= step\n",
    "        else:\n",
    "            lo += step\n",
    "        ret = math.ceil(lo)\n",
    "        if math.floor(hi) == ret:\n",
    "            break\n",
    "        ctext = ctext * mult % N4\n",
    "        step /= 2\n",
    "    if ret is None:\n",
    "        raise\n",
    "    print('Q4 FLAG:', bytes.fromhex(format(ret, 'x')))"
   ]
  },
  {
   "cell_type": "code",
   "execution_count": 68,
   "metadata": {},
   "outputs": [
    {
     "name": "stdout",
     "output_type": "stream",
     "text": [
      "Q4 FLAG: b'Any chance collision and I light up in the dark'\n"
     ]
    }
   ],
   "source": [
    "problem4('davidcash')"
   ]
  },
  {
   "cell_type": "code",
   "execution_count": 69,
   "metadata": {
    "scrolled": true
   },
   "outputs": [
    {
     "name": "stdout",
     "output_type": "stream",
     "text": [
      "Q4 FLAG: b\"And when we'll funk we'll hear beats Don't drag\"\n"
     ]
    }
   ],
   "source": [
    "problem4('rohankumar')"
   ]
  },
  {
   "cell_type": "code",
   "execution_count": 62,
   "metadata": {
    "scrolled": true
   },
   "outputs": [],
   "source": [
    "res = 39339006824372597283136697946419976052270116010140928208646408184004313718562251599451134607351573568943423644007"
   ]
  },
  {
   "cell_type": "code",
   "execution_count": 63,
   "metadata": {},
   "outputs": [
    {
     "data": {
      "text/plain": [
       "b\"And when we'll funk we'll hear beats Don't drag\""
      ]
     },
     "execution_count": 63,
     "metadata": {},
     "output_type": "execute_result"
    }
   ],
   "source": [
    "bytes.fromhex(format(res, 'x'))"
   ]
  }
 ],
 "metadata": {
  "kernelspec": {
   "display_name": "Python 3",
   "language": "python",
   "name": "python3"
  },
  "language_info": {
   "codemirror_mode": {
    "name": "ipython",
    "version": 3
   },
   "file_extension": ".py",
   "mimetype": "text/x-python",
   "name": "python",
   "nbconvert_exporter": "python",
   "pygments_lexer": "ipython3",
   "version": "3.8.0"
  }
 },
 "nbformat": 4,
 "nbformat_minor": 2
}
