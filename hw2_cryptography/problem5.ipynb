{
 "cells": [
  {
   "cell_type": "code",
   "execution_count": 3,
   "metadata": {},
   "outputs": [],
   "source": [
    "# %load assignment2.py\n",
    "import urllib.request\n",
    "import base64\n",
    "\n",
    "################################################################################\n",
    "# \n",
    "# This starter file for UChicago CMSC 23200 / 33250 is for Python3\n",
    "#\n",
    "################################################################################\n",
    "\n",
    "################################################################################\n",
    "# \n",
    "# make_query(task, cnet_id, query)\n",
    "# -- task should be one of 'one','two','three','four','five'\n",
    "# -- cnet_id should always be your own cnet_id\n",
    "# -- query can be any string of bytes, including non-printable\n",
    "#\n",
    "################################################################################\n",
    "\n",
    "def make_query(task, cnet_id, query):\n",
    "    DEBUG = False; # Replace with \"True\" to print extra debugging information\n",
    "    task = task.lower()\n",
    "    cnet_id = cnet_id.lower()\n",
    "    if DEBUG: \n",
    "        print(\"Querying the server\")\n",
    "        print(\"(Task:\", task, \")\")\n",
    "        print(\"(CNET ID:\", cnet_id, \")\")\n",
    "        print(\"(Query:\", query, \")\")\n",
    "    if (type(query) is bytearray) or (type(query) is bytes):\n",
    "        url = \"http://securityclass.cs.uchicago.edu/\" + urllib.parse.quote_plus(task) + \"/\" + urllib.parse.quote_plus(cnet_id) + \"/\" + urllib.parse.quote_plus(base64.urlsafe_b64encode(query)) + \"/\"\n",
    "    else:\n",
    "        url = \"http://securityclass.cs.uchicago.edu/\" + urllib.parse.quote_plus(task) + \"/\" + urllib.parse.quote_plus(cnet_id) + \"/\" + urllib.parse.quote_plus(base64.urlsafe_b64encode(query.encode('utf-8'))) + \"/\"\n",
    "    if DEBUG:\n",
    "        print(\"(Querying:\", url, \")\")\n",
    "    with urllib.request.urlopen(url) as response:\n",
    "        answer = base64.urlsafe_b64decode(response.read())\n",
    "        return answer\n",
    "\n",
    "################################################################################\n",
    "# Constants for the attacks - Don't change these!\n",
    "################################################################################\n",
    "\n",
    "e3 = 65537\n",
    "k3 = 512\n",
    "# Modulus N2 is 512 bits long, too short for real security\n",
    "N3= 0x00dd9387a53d8eb960acc9d3bc49b859e9127ad571f95d3555dc5a30f08b832299d82ecbba38acdadfb4263947f86212f1a3894e3d308545f2618ec3a1cefc5bdf\n",
    "\n",
    "e4 = 65537\n",
    "k4 = 512\n",
    "# Modulus N3 is 512 bits long, too short for real security\n",
    "N4= 0x00c7d11981bf2838ed5ae602cecc4cffcf141537f9ec6e12b2fcaae43dedbf9845049066cc8720c6685d100957c07e4f5f97b2b8e66d1a3bcc32ecf1e0fee55e6f\n",
    "\n",
    "e5 = 3\n",
    "k5 = 2048\n",
    "# Modulus N4 is 2048 bits long\n",
    "N5 = 0x00bc9e8d81ce1de63e0ab302030e5c0595bf5d2c30fd2660ac9299431a29c4e231a675d684e35415ad87ca738509469aaa0455d62543ab9265d71767f55c7f5fdbb9e2618112212178417c21b4e8a98ab0980fd67864ed7e7e3dcefc3143d5e5d3be2bf0c36c75c977052fedbfdc1c2e448710338fad4fe0e3fa8fc2c662e3466d358df6618dc0a63f45395e5c5aa88d15a49ce2be791acbcd81e28533228918f6abb57e023145a97afea85ad238686f51409017a4d6af8687f7a9438f09a2d9d9e619abdde8e67fc95af23dc97b4a595baa26bfeaf16d31b93e3e1bae1f5813fcd9ef2c8f93df2dd4a779626d07852f120e6b84d936abb811fd4525d9a0cf6621\n",
    "\n",
    "\n",
    "################################################################################\n",
    "# Helper methods go below here\n",
    "################################################################################\n",
    "\n",
    "#\n",
    "# modexp(base,exp,modulus) computes (base**exp) % modulus efficiently.\n",
    "#\n",
    "# In particular this method can handle very large values of exp, while\n",
    "# the python builtin ** operator can not.\n",
    "#\n",
    "# Feel free to change this if you want, but you probably won't need to.\n",
    "#\n",
    "def modexp(base, exp, modulus):\n",
    "    ret = 1\n",
    "    while exp > 0:\n",
    "        if exp % 2 == 1:\n",
    "            ret = (ret*base) % modulus\n",
    "        base = (base*base) % modulus\n",
    "        exp = exp >> 1\n",
    "    return ret\n",
    "\n",
    "#your code here"
   ]
  },
  {
   "cell_type": "code",
   "execution_count": 6,
   "metadata": {},
   "outputs": [],
   "source": [
    "from hashlib import sha256\n",
    "import math\n",
    "from decimal import *"
   ]
  },
  {
   "cell_type": "code",
   "execution_count": 7,
   "metadata": {},
   "outputs": [],
   "source": [
    "def cube_root_bs(n):\n",
    "    e = 0.000001\n",
    "    start, end = 0, n\n",
    "    while start < end:\n",
    "        mid = Decimal(start + end) / Decimal(2)\n",
    "        diff = n - mid * mid * mid\n",
    "        if abs(diff) <= e:\n",
    "            return mid\n",
    "        elif diff > 0:\n",
    "            start = mid\n",
    "        else:\n",
    "            end = mid"
   ]
  },
  {
   "cell_type": "code",
   "execution_count": null,
   "metadata": {},
   "outputs": [],
   "source": [
    "h = sha256()\n",
    "h.update(b'davidcash')\n",
    "digest = h.digest()"
   ]
  },
  {
   "cell_type": "code",
   "execution_count": null,
   "metadata": {},
   "outputs": [],
   "source": [
    "getcontext().prec = k5\n",
    "pad = b'\\x00\\x01\\xff\\x00'\n",
    "start = pad + digest + b'\\x00' * (256 - len(pad) - len(digest))\n",
    "end = pad + digest + b'\\xff' * (256 - len(pad) - len(digest))"
   ]
  },
  {
   "cell_type": "code",
   "execution_count": null,
   "metadata": {
    "scrolled": true
   },
   "outputs": [],
   "source": [
    "num = math.ceil(cube_root_bs(int(start.hex(), 16)))\n",
    "int(start.hex(), 16) <= num ** 3 , num ** 3 < int(end.hex(), 16)"
   ]
  },
  {
   "cell_type": "code",
   "execution_count": null,
   "metadata": {},
   "outputs": [],
   "source": [
    "num = math.floor(cube_root_bs(int(end.hex(), 16)))\n",
    "int(start.hex(), 16) <= num ** 3 , num ** 3 < int(end.hex(), 16)"
   ]
  },
  {
   "cell_type": "code",
   "execution_count": null,
   "metadata": {
    "scrolled": true
   },
   "outputs": [],
   "source": [
    "make_query('five', 'davidcash', hex(num))"
   ]
  },
  {
   "cell_type": "code",
   "execution_count": 9,
   "metadata": {},
   "outputs": [],
   "source": [
    "def problem5(cnetid):\n",
    "    getcontext().prec = k5\n",
    "    h = sha256()\n",
    "    h.update(bytes(cnetid, 'utf-8'))\n",
    "    digest = h.digest()\n",
    "    pad = b'\\x00\\x01\\xff\\x00'\n",
    "    start = pad + digest + b'\\x00' * (256 - len(pad) - len(digest))\n",
    "    signature = math.ceil(cube_root_bs(int(start.hex(), 16)))\n",
    "    print(make_query('five', cnetid, hex(signature)))"
   ]
  },
  {
   "cell_type": "code",
   "execution_count": 11,
   "metadata": {},
   "outputs": [
    {
     "name": "stdout",
     "output_type": "stream",
     "text": [
      "b'Congrats! Your flag for problem 5 is FLAG4=vZlfuiqrdwg5ayEU'\n"
     ]
    }
   ],
   "source": [
    "problem5('davidcash')"
   ]
  },
  {
   "cell_type": "code",
   "execution_count": 10,
   "metadata": {},
   "outputs": [
    {
     "name": "stdout",
     "output_type": "stream",
     "text": [
      "b'Congrats! Your flag for problem 5 is FLAG4=bISFjgreSDKuTvYL'\n"
     ]
    }
   ],
   "source": [
    "problem5('rohankumar')"
   ]
  }
 ],
 "metadata": {
  "kernelspec": {
   "display_name": "Python 3",
   "language": "python",
   "name": "python3"
  },
  "language_info": {
   "codemirror_mode": {
    "name": "ipython",
    "version": 3
   },
   "file_extension": ".py",
   "mimetype": "text/x-python",
   "name": "python",
   "nbconvert_exporter": "python",
   "pygments_lexer": "ipython3",
   "version": "3.8.0"
  }
 },
 "nbformat": 4,
 "nbformat_minor": 2
}
